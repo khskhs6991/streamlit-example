{
  "nbformat": 4,
  "nbformat_minor": 0,
  "metadata": {
    "colab": {
      "private_outputs": true,
      "provenance": [],
      "include_colab_link": true
    },
    "kernelspec": {
      "name": "python3",
      "display_name": "Python 3"
    },
    "language_info": {
      "name": "python"
    }
  },
  "cells": [
    {
      "cell_type": "markdown",
      "metadata": {
        "id": "view-in-github",
        "colab_type": "text"
      },
      "source": [
        "<a href=\"https://colab.research.google.com/github/khskhs6991/webtoon_eda/blob/main/webtoon_data_analysis.ipynb\" target=\"_parent\"><img src=\"https://colab.research.google.com/assets/colab-badge.svg\" alt=\"Open In Colab\"/></a>"
      ]
    },
    {
      "cell_type": "code",
      "source": [
        "from google.colab import drive\n",
        "drive.mount('/content/drive')"
      ],
      "metadata": {
        "id": "xlrK3fHbytb1"
      },
      "execution_count": null,
      "outputs": []
    },
    {
      "cell_type": "markdown",
      "source": [
        "## 네이버 웹툰 데이터 받아오기"
      ],
      "metadata": {
        "id": "o1tk6XgXtfNK"
      }
    },
    {
      "cell_type": "code",
      "execution_count": null,
      "metadata": {
        "id": "RZRAWYkpvmuz"
      },
      "outputs": [],
      "source": [
        "import pandas as pd\n",
        "\n",
        "webtoon = pd.read_csv('/content/drive/MyDrive/ITStudy/data/naver.csv')\n",
        "webtoon.head()"
      ]
    },
    {
      "cell_type": "markdown",
      "source": [
        "## 베스트 도전 데이터 받아오기"
      ],
      "metadata": {
        "id": "HtG8PoLStjeG"
      }
    },
    {
      "cell_type": "code",
      "source": [
        "webtoon_challenge = pd.read_csv('/content/drive/MyDrive/ITStudy/data/naver_challenge.csv')\n",
        "webtoon_challenge.head()"
      ],
      "metadata": {
        "id": "_Inx7Vitxucm"
      },
      "execution_count": null,
      "outputs": []
    },
    {
      "cell_type": "markdown",
      "source": [
        "## 폰트 글꼴 사전작업"
      ],
      "metadata": {
        "id": "cNYrFshKtYCi"
      }
    },
    {
      "cell_type": "code",
      "source": [
        "import numpy as np\n",
        "import pandas as pd\n",
        "import seaborn as sns\n",
        "sns.set() \n",
        "import matplotlib.pyplot as plt\n",
        "\n",
        "font_address = 'https://github.com/jaekookang/Korean-WordCloud/blob/master/font/SeoulNamsanvert.ttf?raw=true'\n",
        "!wget {font_address}\n",
        "!mv SeoulNamsanvert.ttf?raw=true SeoulNamsanvert.ttf\n",
        "\n",
        "%matplotlib inline"
      ],
      "metadata": {
        "id": "kDfgypC04GJ0"
      },
      "execution_count": null,
      "outputs": []
    },
    {
      "cell_type": "markdown",
      "source": [
        "# 목차\n",
        "###1. 네이버 웹툰 TOP 100 기준으로 description 워드 클라우드\n",
        "###2. 네이버 웹툰, 베스트 도전 TOP 100 장르 & 연령\n",
        "###3. 베스트 도전에서 정식연재로 바뀐 작품의 description 워드 클라우드\n",
        "###4. 네이버웹툰, 베스트도전 -> 네이버 웹툰, 베스트도전 하위 350개의 단어 비교\n",
        "###5. 네이버 웹툰 중 각 장르 top 3\n",
        "###6. 네이버 웹툰 사이트의 크롤링을 통해 얻은 장르별 TOP 10\n",
        "   (실제 조회수 기반 rating과 그냥 rating 비교)"
      ],
      "metadata": {
        "id": "8qXm2M7u6qa_"
      }
    },
    {
      "cell_type": "markdown",
      "source": [
        "# 1. 네이버 웹툰 TOP 100 기준으로 description 워드 클라우드"
      ],
      "metadata": {
        "id": "9mN4s6LW1lLo"
      }
    },
    {
      "cell_type": "code",
      "source": [
        "!pip install wordcloud\n",
        "!pip install konlpy\n",
        "!pip install nltk"
      ],
      "metadata": {
        "id": "odvWKkRutRdA"
      },
      "execution_count": null,
      "outputs": []
    },
    {
      "cell_type": "code",
      "source": [
        "# 1. Top 100 기준으로 description 워드 클라우드\n",
        "\n",
        "import nltk\n",
        "from konlpy.corpus import kolaw\n",
        "from konlpy.tag import Okt\n",
        "t = Okt()\n",
        "\n",
        "text = webtoon.sort_values(by='rating', ascending=False).iloc[:200].description.str.cat(sep=' ')\n",
        "\n",
        "\n",
        "text_no = t.nouns(text)\n",
        "\n",
        "\n",
        "stop_words = ['그', '수', '것', '내', '속', '나', '이', '날', '의', '곳', '남', '두', '세', '살', '준', '은', '전', '때', '줄', '작', '못', '네', '더', '위', '후', '향', '해', \n",
        "              '또', '안', '알', '고', '로', '기', '때문', '온', '뭐', '위해', '작가', '과연']\n",
        "ko_token = [each_word for each_word in text_no if each_word not in stop_words]\n",
        "ko = nltk.Text(ko_token)\n",
        "data = ko.vocab().most_common(100)\n",
        "\n",
        "tmp_data = dict(data)\n",
        "\n",
        "\n",
        "from wordcloud import WordCloud\n",
        "\n",
        "wordcloud = WordCloud(font_path='SeoulNamsanvert.ttf').generate_from_frequencies(tmp_data)\n",
        "plt.figure(figsize=(15, 15))\n",
        "plt.imshow(wordcloud, interpolation='nearest') \n",
        "plt.axis(\"off\")\n",
        "plt.show()"
      ],
      "metadata": {
        "id": "0eDT13ggHSxw"
      },
      "execution_count": null,
      "outputs": []
    },
    {
      "cell_type": "code",
      "source": [
        "import nltk\n",
        "from konlpy.corpus import kolaw\n",
        "from konlpy.tag import Okt\n",
        "t = Okt()"
      ],
      "metadata": {
        "id": "L-uivGht6yVl"
      },
      "execution_count": null,
      "outputs": []
    },
    {
      "cell_type": "markdown",
      "source": [
        "## rating 을 기준으로 내림차순 정렬을 해서 작품의 설명을 나타내는 description을 형태소 분석을 위해 합쳤습니다."
      ],
      "metadata": {
        "id": "eHdvGJvl2YBw"
      }
    },
    {
      "cell_type": "code",
      "source": [
        "text = webtoon.sort_values(by='rating', ascending=False).iloc[:200].description.str.cat(sep=' ')\n",
        "text"
      ],
      "metadata": {
        "id": "RZtMOo6y5KBm"
      },
      "execution_count": null,
      "outputs": []
    },
    {
      "cell_type": "markdown",
      "source": [
        "## 형태소 분석"
      ],
      "metadata": {
        "id": "RSLa5_gB2U94"
      }
    },
    {
      "cell_type": "code",
      "source": [
        "text_no = t.nouns(text)\n",
        "text_no"
      ],
      "metadata": {
        "id": "ae5t65VC6813"
      },
      "execution_count": null,
      "outputs": []
    },
    {
      "cell_type": "markdown",
      "source": [
        "## 불용어 처리 - 불용어 단어는 팀원들과 형태소 분석결과를 보면서 따로 뽑아냈습니다"
      ],
      "metadata": {
        "id": "YnZLv_T312a8"
      }
    },
    {
      "cell_type": "code",
      "source": [
        "stop_words = ['그', '수', '것', '내', '속', '나', '이', '날', '의', '곳', '남', '두', '세', '살', '준', '은', '전', '때', '줄', '작', '못', '네', '더', '위', '후', '향', '해', \n",
        "              '또', '안', '알', '고', '로', '기', '때문', '온', '뭐', '위해', '작가', '과연']\n",
        "ko_token = [each_word for each_word in text_no if each_word not in stop_words]\n",
        "ko = nltk.Text(ko_token)\n",
        "data = ko.vocab().most_common(100)\n",
        "data"
      ],
      "metadata": {
        "id": "G6p13Gn67IhG"
      },
      "execution_count": null,
      "outputs": []
    },
    {
      "cell_type": "markdown",
      "source": [
        "## 워드 클라우드에 사용하기 위해 딕셔너리 데이터로 만들어준다"
      ],
      "metadata": {
        "id": "5WqkNKYH2mwy"
      }
    },
    {
      "cell_type": "code",
      "source": [
        "tmp_data = dict(data)\n",
        "tmp_data"
      ],
      "metadata": {
        "id": "R6NmkHGWByrC"
      },
      "execution_count": null,
      "outputs": []
    },
    {
      "cell_type": "markdown",
      "source": [
        "## 워드 클라우드를 나타낼때 matplotlib.pyplot 을 사용하여 나타내는데 이때 interpolation 파라미터를 사용하여 픽셀들의 축 위치 간격을 보정하여 이미지를 좀 더 자연스럽게 만들 수 있다."
      ],
      "metadata": {
        "id": "TGG9mOKW3NHR"
      }
    },
    {
      "cell_type": "code",
      "source": [
        "wordcloud = WordCloud(font_path='SeoulNamsanvert.ttf').generate_from_frequencies(tmp_data)\n",
        "plt.figure(figsize=(15, 15))\n",
        "plt.imshow(wordcloud, interpolation='bilinear') \n",
        "plt.axis(\"off\")\n",
        "plt.show()"
      ],
      "metadata": {
        "id": "0zphq8m738_A"
      },
      "execution_count": null,
      "outputs": []
    },
    {
      "cell_type": "code",
      "source": [
        "from wordcloud import WordCloud\n",
        "\n",
        "wordcloud = WordCloud(font_path='SeoulNamsanvert.ttf').generate_from_frequencies(tmp_data)\n",
        "plt.figure(figsize=(15, 15))\n",
        "plt.imshow(wordcloud, interpolation='nearest') \n",
        "# interpolation 중에서 가장 고해상도인 보간법은 nearest로 가장 선명하게 잘 보인다.\n",
        "plt.axis(\"off\")\n",
        "plt.show()"
      ],
      "metadata": {
        "id": "6h9mTn4p5TRB"
      },
      "execution_count": null,
      "outputs": []
    },
    {
      "cell_type": "code",
      "source": [
        "from PIL import Image \n",
        "\n",
        "webtoon_mask = np.array(Image.open('./drive/MyDrive/ITStudy/data/Naver_Line_Webtoon_logo.png'))\n",
        "webtoon_mask"
      ],
      "metadata": {
        "id": "KIuhEbxXFXJK"
      },
      "execution_count": null,
      "outputs": []
    },
    {
      "cell_type": "code",
      "source": [
        "plt.figure(figsize=(15, 10))\n",
        "plt.imshow(webtoon_mask, interpolation='bilinear')\n",
        "plt.axis('off')\n",
        "plt.show()"
      ],
      "metadata": {
        "id": "8FNJSxZpGdq3"
      },
      "execution_count": null,
      "outputs": []
    },
    {
      "cell_type": "code",
      "source": [
        "from wordcloud import ImageColorGenerator\n",
        "\n",
        "wordcloud = WordCloud(font_path='SeoulNamsanvert.ttf', width=800, height=400, mask= webtoon_mask)\n",
        "wordcloud.generate_from_frequencies(frequencies=tmp_data)\n",
        "image_colors = ImageColorGenerator(webtoon_mask)\n",
        "wordcloud = wordcloud.recolor(color_func=image_colors)"
      ],
      "metadata": {
        "id": "ItfNyt8IKVdH"
      },
      "execution_count": null,
      "outputs": []
    },
    {
      "cell_type": "code",
      "source": [
        "plt.figure( figsize=(20,10) )\n",
        "plt.imshow(wordcloud, interpolation=\"bilinear\")\n",
        "plt.axis(\"off\")\n",
        "plt.savefig('word_cloud.png')\n",
        "plt.show()"
      ],
      "metadata": {
        "id": "Cp1Fjk71Gt-3"
      },
      "execution_count": null,
      "outputs": []
    },
    {
      "cell_type": "code",
      "source": [
        "wordcloud = WordCloud(font_path='SeoulNamsanvert.ttf', width=800, height=400, mask= webtoon_mask, background_color = 'white')\n",
        "wordcloud.generate_from_frequencies(frequencies=tmp_data)\n",
        "image_colors = ImageColorGenerator(webtoon_mask)\n",
        "wordcloud = wordcloud.recolor(color_func=image_colors)\n",
        "\n",
        "plt.figure( figsize=(20,10) )\n",
        "plt.imshow(wordcloud, interpolation=\"nearest\")\n",
        "plt.axis(\"off\")\n",
        "plt.savefig('word_cloud.png')\n",
        "plt.show()"
      ],
      "metadata": {
        "id": "g2uKQ1hS0c57"
      },
      "execution_count": null,
      "outputs": []
    },
    {
      "cell_type": "markdown",
      "source": [
        "# 2. 네이버 웹툰, 베스트 도전   TOP 100 장르 & 연령 "
      ],
      "metadata": {
        "id": "bZfd2OzT5KFw"
      }
    },
    {
      "cell_type": "code",
      "source": [
        "top100_all_genre = webtoon.sort_values(by='rating', ascending=False).iloc[:100].genre.str.cat(sep = ', ').split(',')"
      ],
      "metadata": {
        "id": "ROXyLL6t41pR"
      },
      "execution_count": null,
      "outputs": []
    },
    {
      "cell_type": "code",
      "source": [
        "import nltk\n",
        "import plotly.express as px \n",
        "top100_all_genre = webtoon.sort_values(by='rating', ascending=False).iloc[:100].genre.str.cat(sep = ', ').split(',')\n",
        "top100_genre_cnt = pd.DataFrame(nltk.Text(top100_all_genre).vocab().most_common(11))\n",
        "top100_genre_cnt.columns = ['genre','num']\n",
        "\n",
        "px.bar(top100_genre_cnt[::-1],x='genre',y='num',color='num', title = '네이버 웹툰 TOP 100 장르별 총합')"
      ],
      "metadata": {
        "id": "1J24liriMgH2"
      },
      "execution_count": null,
      "outputs": []
    },
    {
      "cell_type": "code",
      "source": [
        "top100_all_genre = webtoon_challenge.sort_values(by='rating', ascending=False).iloc[:100].genre.str.cat(sep = ', ').split(',')\n",
        "top100_genre_cnt = pd.DataFrame(nltk.Text(top100_all_genre).vocab().most_common(7))\n",
        "top100_genre_cnt.columns = ['genre','num']\n",
        "px.bar(top100_genre_cnt[::-1],x='genre',y='num',color='num', title = '베스트도전 TOP 100 장르별 총합')"
      ],
      "metadata": {
        "id": "Kwk8M-3POdM1"
      },
      "execution_count": null,
      "outputs": []
    },
    {
      "cell_type": "code",
      "source": [
        "top100_age = webtoon.sort_values(by='rating', ascending=False).iloc[:100].age.str[:2]\n",
        "\n",
        "top100_age_cnt = pd.DataFrame(nltk.Text(top100_age).vocab().most_common(4))\n",
        "top100_age_cnt.columns = ['age','num']\n",
        "\n",
        "px.bar(top100_age_cnt[::-1],x='age',y='num',color='num', title = '네이버 웹툰 TOP 100 연령별 총합')"
      ],
      "metadata": {
        "id": "8YRF6QZhMmm8"
      },
      "execution_count": null,
      "outputs": []
    },
    {
      "cell_type": "markdown",
      "source": [
        "# 3. 베스트 도전에서 정식연재로 바뀐 작품의 description 워드 클라우드"
      ],
      "metadata": {
        "id": "wJn41x187TCv"
      }
    },
    {
      "cell_type": "code",
      "source": [
        "import nltk\n",
        "from konlpy.corpus import kolaw\n",
        "from konlpy.tag import Okt\n",
        "from wordcloud import WordCloud\n",
        "t = Okt()\n",
        "upgrade_toon = webtoon_challenge.loc[webtoon_challenge.serialize == True, 'description'].str.cat(sep=' ')\n",
        "\n",
        "toon_no = t.nouns(upgrade_toon)\n",
        "\n",
        "stop_words = ['그', '수', '전', '위해', '이', '것', '날', '의', '나', '과연', '일', '살', '군', '은', '속',\n",
        "              '뒤', '마주', '알', '애', '생', '과', '후', '세', '내', '로', '위', '앞', '대해',\n",
        "              '부', '개', '온', '끼', '힘', '두', '연재']\n",
        "ko_token = [each_word for each_word in toon_no if each_word not in stop_words]\n",
        "ko = nltk.Text(ko_token)\n",
        "data = ko.vocab().most_common(100)\n",
        "tmp_data = dict(data)\n",
        "\n",
        "\n",
        "wordcloud = WordCloud(font_path='SeoulNamsanvert.ttf').generate_from_frequencies(tmp_data)\n",
        "plt.figure(figsize=(15, 15))\n",
        "plt.imshow(wordcloud, interpolation='nearest')\n",
        "plt.axis(\"off\")\n",
        "plt.show()"
      ],
      "metadata": {
        "id": "qLms2zyGL0Ul"
      },
      "execution_count": null,
      "outputs": []
    },
    {
      "cell_type": "markdown",
      "source": [
        "# 4. 네이버웹툰, 베스트도전 -> 네이버 웹툰, 베스트도전 하위 350개의 단어 비교"
      ],
      "metadata": {
        "id": "jpIga4r4_vF6"
      }
    },
    {
      "cell_type": "markdown",
      "source": [
        "베스트 도전에서 네이버 웹툰으로 정식 연재한 작품이 대략 350개가 있어서 전체 기준을 350개로 잡았다. \n",
        "\n",
        "네이버 웹툰에서 평점별 TOP 350을 추려서 불용어를 제거한 후 description에서 가장 많이 쓰인 단어 100개를 선정하였다. "
      ],
      "metadata": {
        "id": "lfuWGVyTBVIz"
      }
    },
    {
      "cell_type": "code",
      "source": [
        "text = webtoon.sort_values(by='rating', ascending=False).iloc[:350].description.str.cat(sep=' ')\n",
        "text_no = t.nouns(text)\n",
        "stop_words = ['그', '수', '전', '위해', '이', '것', '날', '의', '나', '과연', '일', '살', '군', '은', '속',\n",
        "              '뒤', '마주', '알', '애', '생', '과', '후', '세', '내', '로', '위', '앞', '대해',\n",
        "              '부', '개', '온', '끼', '힘', '두', '곳', '기', '둘', '때', '더', '중', '반', '줄', '작', '고', '못', '안', '건', '채', '번']\n",
        "ko_token = [each_word for each_word in text_no if each_word not in stop_words]\n",
        "ko = nltk.Text(ko_token)\n",
        "data = ko.vocab().most_common(100)\n",
        "tmp_data = dict(data)\n",
        "tmp_data"
      ],
      "metadata": {
        "id": "RAhzT4M6AyQf"
      },
      "execution_count": null,
      "outputs": []
    },
    {
      "cell_type": "markdown",
      "source": [
        "위에서 선정한 데이터를 나중에 plotly 에서 사용하기 위해 DataFrame의 모양을 변경하였다."
      ],
      "metadata": {
        "id": "IXLgsZ-8GC5t"
      }
    },
    {
      "cell_type": "code",
      "source": [
        "webtoon_top100 = pd.DataFrame.from_dict(tmp_data, orient='index', columns=['count'])\n",
        "webtoon_top100 = webtoon_top100.reset_index(level=0)\n",
        "webtoon_top100 = webtoon_top100.rename(columns={'index':'word'})\n",
        "webtoon_top100"
      ],
      "metadata": {
        "id": "3lbb1EP9Bqca"
      },
      "execution_count": null,
      "outputs": []
    },
    {
      "cell_type": "markdown",
      "source": [
        "베스트 도전에서 네이버 웹툰으로 올라간 작품에 대해 위에했던 작업을 똑같이 반복하였다."
      ],
      "metadata": {
        "id": "Zay0A_0kGahE"
      }
    },
    {
      "cell_type": "code",
      "source": [
        "text3 = webtoon_challenge.loc[webtoon_challenge.serialize == True, 'description'].str.cat(sep=' ')\n",
        "text_no = t.nouns(text3)\n",
        "stop_words = ['그', '수', '전', '위해', '이', '것', '날', '의', '나', '과연', '일', '살', '군', '은', '속',\n",
        "              '뒤', '마주', '알', '애', '생', '과', '후', '세', '내', '로', '위', '앞', '대해',\n",
        "              '부', '개', '온', '끼', '힘', '두']\n",
        "ko_token = [each_word for each_word in text_no if each_word not in stop_words]\n",
        "ko = nltk.Text(ko_token)\n",
        "data = ko.vocab().most_common(100)\n",
        "tmp_data = dict(data)\n",
        "\n",
        "challenge_up = pd.DataFrame.from_dict(tmp_data, orient='index', columns=['count'])\n",
        "challenge_up = challenge_up.reset_index(level=0)\n",
        "challenge_up = challenge_up.rename(columns={'index':'word'})\n",
        "challenge_up "
      ],
      "metadata": {
        "id": "xqBFfXJTB0va"
      },
      "execution_count": null,
      "outputs": []
    },
    {
      "cell_type": "markdown",
      "source": [
        "베스트 도전 하위 350 작품에 대해 위에했던 작업을 똑같이 반복하였다."
      ],
      "metadata": {
        "id": "lf4-jW1NGjOx"
      }
    },
    {
      "cell_type": "code",
      "source": [
        "text4 = webtoon_challenge.sort_values(by='rating').iloc[:350].description.str.cat(sep=' ')\n",
        "\n",
        "text_no = t.nouns(text4)\n",
        "stop_words = ['그', '수', '이', '것', '날', '살', '속', '과연', '안', '위', '일', '알', '더', '과', '보미',\n",
        "              '중', '때문', '의', '때', '향', '를', '다른', '통해', '하라', '너', '후', '나', '한라', '뒤',\n",
        "              '두', '도', '반', '구']\n",
        "ko_token = [each_word for each_word in text_no if each_word not in stop_words]\n",
        "ko = nltk.Text(ko_token)\n",
        "data = ko.vocab().most_common(100)\n",
        "tmp_data = dict(data)\n",
        "\n",
        "challenge_low350 = pd.DataFrame.from_dict(tmp_data, orient='index', columns=['count'])\n",
        "challenge_low350 = challenge_low350.reset_index(level=0)\n",
        "challenge_low350 = challenge_low350.rename(columns={'index':'word'})\n",
        "challenge_low350"
      ],
      "metadata": {
        "id": "ltq93gpZCMk1"
      },
      "execution_count": null,
      "outputs": []
    },
    {
      "cell_type": "markdown",
      "source": [
        "plotly에서 범례를 사용하기 위해 class라는 열을 만들어 주었고, 이러한 데이터들을 하나의 DataFrame으로 만들어 주었다."
      ],
      "metadata": {
        "id": "_Ua6DoXNGpEL"
      }
    },
    {
      "cell_type": "code",
      "source": [
        "webtoon_top100['class'] = '네이버 웹툰'\n",
        "challenge_up['class'] = '베스트 도전 -> 네이버 웹툰'\n",
        "challenge_low350['class'] = '베스트 도전 하위 350'\n",
        "webtoon_df = pd.concat([webtoon_top100, challenge_up, challenge_low350], axis=0)\n",
        "webtoon_df = webtoon_df.sort_values('count', ascending=False)\n",
        "webtoon_df"
      ],
      "metadata": {
        "id": "OsebUguMCjOX"
      },
      "execution_count": null,
      "outputs": []
    },
    {
      "cell_type": "markdown",
      "source": [
        "기존에는 이런 필터 작업없이 그래프를 나타내었는데 어떤 작품에는 있고, 어떤 작품에는 없고 하는 단어들이 너무 많아 세 개의 공통된 단어들을 취합하여 저장하였다."
      ],
      "metadata": {
        "id": "LkqNFCMwG9O9"
      }
    },
    {
      "cell_type": "markdown",
      "source": [
        "![image.png](data:image/png;base64,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)"
      ],
      "metadata": {
        "id": "0U35dMRTHSBc"
      }
    },
    {
      "cell_type": "code",
      "source": [
        "words = pd.merge(webtoon_top100, challenge_up, on='word').word\n",
        "challenge_low350_filtered = challenge_low350[challenge_low350.word.isin(words)].word\n",
        "webtoon_df2 = webtoon_df[webtoon_df.word.isin(challenge_low350_filtered)]\n",
        "webtoon_df2"
      ],
      "metadata": {
        "id": "R81-lMSJCpEV"
      },
      "execution_count": null,
      "outputs": []
    },
    {
      "cell_type": "code",
      "source": [
        "import plotly.express as px\n",
        "px.bar(webtoon_df2, x=\"word\", y=\"count\",\n",
        "             color='class', barmode='group', title = '네이버웹툰, 베스트도전 -> 네이버 웹툰, 베스트도전 하위 350개의 단어 비교')"
      ],
      "metadata": {
        "id": "fIrO9L58_uH1"
      },
      "execution_count": null,
      "outputs": []
    },
    {
      "cell_type": "markdown",
      "source": [
        "# 5. 네이버 웹툰 중 각 장르 top 3"
      ],
      "metadata": {
        "id": "93OYsUtu1WpF"
      }
    },
    {
      "cell_type": "markdown",
      "source": [
        "## 장르를 보면 두 가지가 합쳐져 있어서 따로 띄어주어 각각의 장르에 값으로 넣어주었다. "
      ],
      "metadata": {
        "id": "GCYwuHJI-0bm"
      }
    },
    {
      "cell_type": "code",
      "source": [
        "webtoon_splitted_by_genre = pd.DataFrame(columns=webtoon.columns)\n",
        "for idx, genres in enumerate(webtoon.genre.str.split(', ')):\n",
        "    toon = webtoon.iloc[idx].copy()\n",
        "    toon.genre = genres[0]\n",
        "    webtoon_splitted_by_genre.loc[idx*2] = toon\n",
        "    toon.genre = genres[1]\n",
        "    webtoon_splitted_by_genre.loc[idx*2 + 1] = toon\n",
        "webtoon_splitted_by_genre.head(30)"
      ],
      "metadata": {
        "id": "GS-fNWde4Agx"
      },
      "execution_count": null,
      "outputs": []
    },
    {
      "cell_type": "markdown",
      "source": [
        "## 데이터 중 Nan이라는 결측값을 가진 열이 존재하여 해당 열에서 가장 많이 나온 값으로 대체하였다. "
      ],
      "metadata": {
        "id": "5iBkP2q68g1w"
      }
    },
    {
      "cell_type": "code",
      "source": [
        "webtoon_grouped_by_genre = webtoon_splitted_by_genre.groupby('genre').apply(lambda df: df.sort_values(by='rating', ascending=False)[:3])\n",
        "wgbg3 = webtoon_grouped_by_genre.copy()\n",
        "wgbg3 = wgbg3.drop(['date', 'link', 'id', 'description', 'genre'], axis = 1)\n",
        "replace_value = nltk.Text(wgbg3['age'])\n",
        "replace_value = replace_value.vocab().most_common(1)[0][0]\n",
        "wgbg3 = wgbg3.fillna(replace_value)\n",
        "wgbg3\n"
      ],
      "metadata": {
        "id": "O7xzv6VV5hMK"
      },
      "execution_count": null,
      "outputs": []
    },
    {
      "cell_type": "markdown",
      "source": [
        "각 장르마다 TOP 3를 뽑아보았는데 생각보다 아는 웹툰이 많이 없어서 원인이 무엇일까 생각해보았다.\n",
        "1. 조회수 혹은 추천수에 기반한 rating이 아니라 기본적인 rating만 사용함\n",
        "2. 유명한 웹툰이라 해도 이번화가 마음에 안들면 별점테러와 같은 공격을 받아 rating이 낮아지는 경우가 있다."
      ],
      "metadata": {
        "id": "e6ilj-Ej7gRD"
      }
    },
    {
      "cell_type": "markdown",
      "source": [
        "# 6. 네이버 웹툰 사이트의 크롤링을 통해 얻은 장르별 TOP 10\n",
        "# (실제 조회수 기반 rating과 그냥 rating 비교)"
      ],
      "metadata": {
        "id": "pNytS5k-qWoX"
      }
    },
    {
      "cell_type": "code",
      "source": [
        "!apt-get update\n",
        "!apt install chromium-chromedriver\n",
        "!cp /usr/lib/chromium-browser/chromedriver /usr/bin\n",
        "!pip install selenium"
      ],
      "metadata": {
        "id": "DHP29rfLqQKV"
      },
      "execution_count": null,
      "outputs": []
    },
    {
      "cell_type": "markdown",
      "source": [
        "## 장르별 조회수 TOP 10 가져오기"
      ],
      "metadata": {
        "id": "pVSuSWEqroXG"
      }
    },
    {
      "cell_type": "code",
      "source": [
        "import time\n",
        "from selenium import webdriver\n",
        "from selenium.webdriver.common.by import By\n",
        "from selenium.webdriver.common.keys import Keys\n",
        "import pandas as pd\n",
        "\n",
        "options = webdriver.ChromeOptions()\n",
        "options.add_argument('--headless')       \n",
        "options.add_argument('--no-sandbox')\n",
        "options.add_argument('--disable-dev-shm-usage')\n",
        "driver = webdriver.Chrome('chromedriver', options=options)\n",
        "genres = ['episode', 'omnibus', 'story', 'daily','comic','fantasy','action','drama','pure','sensibility','thrill','historical','sports']\n",
        "webtoon_view = pd.DataFrame(columns=['genre', 'title'])\n",
        "index = 0\n",
        "for genre in genres:\n",
        "\n",
        "    url =  'https://comic.naver.com/webtoon/genre?order=ViewCount&view=image&genre=' + genre\n",
        "\n",
        "    driver.get(url)\n",
        "    elements = driver.find_elements(By.CSS_SELECTOR, 'div.list_area dl dt a')[:10]\n",
        "    for element in elements:\n",
        "        title = element.get_attribute(\"title\")\n",
        "        webtoon_view.loc[index] = [genre, title]\n",
        "        index += 1\n",
        "webtoon_view"
      ],
      "metadata": {
        "id": "aUyIhoKgXRbJ"
      },
      "execution_count": null,
      "outputs": []
    },
    {
      "cell_type": "markdown",
      "source": [
        "## 장르별 평점순 TOP 10 가져오기"
      ],
      "metadata": {
        "id": "domYRfd0rYVT"
      }
    },
    {
      "cell_type": "code",
      "source": [
        "webtoon_rating = pd.DataFrame(columns=['genre', 'title'])\n",
        "index = 0\n",
        "for genre in genres:\n",
        "    url =  'https://comic.naver.com/webtoon/genre?order=StarScore&view=image&genre=' + genre\n",
        "    driver.get(url)\n",
        "    elements = driver.find_elements(By.CSS_SELECTOR, 'div.list_area dl dt a')[:10]\n",
        "    for element in elements:\n",
        "        title = element.get_attribute(\"title\")\n",
        "        webtoon_rating.loc[index] = [genre, title]\n",
        "        index += 1\n",
        "webtoon_rating"
      ],
      "metadata": {
        "id": "FOWz6idIYUw2"
      },
      "execution_count": null,
      "outputs": []
    },
    {
      "cell_type": "markdown",
      "source": [
        "## 장르별 조회수, 평점순 TOP 10"
      ],
      "metadata": {
        "id": "7sP0ZMt9r-uB"
      }
    },
    {
      "cell_type": "code",
      "source": [
        "webtoon_crawl = webtoon_view.join(webtoon_rating, lsuffix='_view', rsuffix='_rating')\n",
        "webtoon_crawl = webtoon_crawl.drop('genre_rating', axis=1)\n",
        "webtoon_crawl = webtoon_crawl.rename(columns={'genre_view':'genre'})\n",
        "webtoon_crawl\n",
        "# webtoon_crawl[webtoon_crawl.genre == 'episode']"
      ],
      "metadata": {
        "id": "nQYC9CkXYH7m"
      },
      "execution_count": null,
      "outputs": []
    },
    {
      "cell_type": "code",
      "source": [
        "wgbg3"
      ],
      "metadata": {
        "id": "YUQBIEAr-1Mi"
      },
      "execution_count": null,
      "outputs": []
    }
  ]
}